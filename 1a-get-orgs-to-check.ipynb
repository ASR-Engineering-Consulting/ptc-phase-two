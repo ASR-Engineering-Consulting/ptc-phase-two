{
 "cells": [
  {
   "cell_type": "markdown",
   "metadata": {},
   "source": [
    "# Get a list of organisations to check for data"
   ]
  },
  {
   "cell_type": "code",
   "execution_count": 1,
   "metadata": {},
   "outputs": [],
   "source": [
    "import pandas as pd"
   ]
  },
  {
   "cell_type": "markdown",
   "metadata": {},
   "source": [
    "Get content from 3 files"
   ]
  },
  {
   "cell_type": "code",
   "execution_count": 22,
   "metadata": {},
   "outputs": [],
   "source": [
    "df1 = pd.read_excel('orgs-to-check/All apps with charity and company reg nos_20.11.18.xlsx')\n",
    "df2 = pd.read_excel('orgs-to-check/Copy of Power to Change grants data 2017_FINAL 13.09.18.xlsx')\n",
    "df3 = pd.read_excel('orgs-to-check/Power to Change grants data to December 2016.xlsx')"
   ]
  },
  {
   "cell_type": "markdown",
   "metadata": {},
   "source": [
    "Extract registration numbers from the first file"
   ]
  },
  {
   "cell_type": "code",
   "execution_count": 75,
   "metadata": {},
   "outputs": [],
   "source": [
    "df1_orgs = df1[['Company/Organisation Registration', 'Charity Number']].dropna(how='all')\n",
    "df1_orgs.columns = ['Recipient Org:Company Number', 'Recipient Org:Charity Number']"
   ]
  },
  {
   "cell_type": "markdown",
   "metadata": {},
   "source": [
    "Basic company number cleaning"
   ]
  },
  {
   "cell_type": "code",
   "execution_count": 76,
   "metadata": {},
   "outputs": [],
   "source": [
    "df1_orgs.loc[:, 'Recipient Org:Company Number'] = df1_orgs['Recipient Org:Company Number'].str.pad(8, fillchar='0')"
   ]
  },
  {
   "cell_type": "markdown",
   "metadata": {},
   "source": [
    "Clean charity and company numbers (remove any charity numbers with non-numeric characters or company numbers with spaces in them)"
   ]
  },
  {
   "cell_type": "code",
   "execution_count": 77,
   "metadata": {},
   "outputs": [],
   "source": [
    "df1_orgs.loc[\n",
    "    df1_orgs['Recipient Org:Charity Number'].str.contains('[A-Za-z]').fillna(False),\n",
    "    \"Recipient Org:Charity Number\"\n",
    "] = None\n",
    "df1_orgs.loc[\n",
    "    df1_orgs['Recipient Org:Company Number'].str.contains(' ').fillna(False),\n",
    "    \"Recipient Org:Company Number\"\n",
    "] = None"
   ]
  },
  {
   "cell_type": "markdown",
   "metadata": {},
   "source": [
    "The other two files are in 360Giving format, so extract the reg number fields and combine into one file."
   ]
  },
  {
   "cell_type": "code",
   "execution_count": 99,
   "metadata": {},
   "outputs": [],
   "source": [
    "orgs = pd.concat([\n",
    "    df2[['Recipient Org:Charity Number', 'Recipient Org:Company Number']], \n",
    "    df3[['Recipient Org:Charity Number', 'Recipient Org:Company Number']]\n",
    "])"
   ]
  },
  {
   "cell_type": "markdown",
   "metadata": {},
   "source": [
    "The charity number field is auto-detected as a number, so transform to a string."
   ]
  },
  {
   "cell_type": "code",
   "execution_count": 100,
   "metadata": {},
   "outputs": [],
   "source": [
    "orgs.loc[\n",
    "    orgs['Recipient Org:Charity Number'].notnull(), \n",
    "    \"Recipient Org:Charity Number\"\n",
    "] = orgs.loc[orgs['Recipient Org:Charity Number'].notnull(), 'Recipient Org:Charity Number'].apply(\"{:.0f}\".format)"
   ]
  },
  {
   "cell_type": "markdown",
   "metadata": {},
   "source": [
    "Merge the reg numbers from the three files, and drop any where both fields aren't present"
   ]
  },
  {
   "cell_type": "code",
   "execution_count": 101,
   "metadata": {},
   "outputs": [],
   "source": [
    "orgs = pd.concat([\n",
    "    df1_orgs[['Recipient Org:Charity Number', 'Recipient Org:Company Number']],\n",
    "    orgs\n",
    "]).dropna(how='all')"
   ]
  },
  {
   "cell_type": "markdown",
   "metadata": {},
   "source": [
    "Create an identifier in the org-id style. Prioritise charity number over company number (this is opposite to the recommended, but it's important because more data is available on charities)."
   ]
  },
  {
   "cell_type": "code",
   "execution_count": 102,
   "metadata": {},
   "outputs": [],
   "source": [
    "orgs.loc[:, 'Recipient Org:Identifier'] = None\n",
    "orgs.loc[\n",
    "    orgs['Recipient Org:Charity Number'].notnull(),\n",
    "    \"Recipient Org:Identifier\"\n",
    "] = 'GB-CHC-' + orgs.loc[orgs['Recipient Org:Charity Number'].notnull(), 'Recipient Org:Charity Number']\n",
    "orgs.loc[\n",
    "    orgs['Recipient Org:Identifier'].isnull(),\n",
    "    \"Recipient Org:Identifier\"\n",
    "] = 'GB-COH-' + orgs.loc[orgs['Recipient Org:Identifier'].isnull(), 'Recipient Org:Company Number']"
   ]
  },
  {
   "cell_type": "markdown",
   "metadata": {},
   "source": [
    "Get a list of the unique values"
   ]
  },
  {
   "cell_type": "code",
   "execution_count": 110,
   "metadata": {},
   "outputs": [],
   "source": [
    "org_ids = orgs['Recipient Org:Identifier'].drop_duplicates().sort_values()"
   ]
  },
  {
   "cell_type": "markdown",
   "metadata": {},
   "source": [
    "Show the different types of IDs we have"
   ]
  },
  {
   "cell_type": "code",
   "execution_count": 115,
   "metadata": {},
   "outputs": [
    {
     "data": {
      "text/plain": [
       "GB-COH    565\n",
       "GB-CHC    452\n",
       "Name: Recipient Org:Identifier, dtype: int64"
      ]
     },
     "execution_count": 115,
     "metadata": {},
     "output_type": "execute_result"
    }
   ],
   "source": [
    "org_ids.apply(lambda x: \"-\".join(x.split(\"-\")[0:2])).value_counts()"
   ]
  },
  {
   "cell_type": "markdown",
   "metadata": {},
   "source": [
    "Save the resulting IDs to a CSV file"
   ]
  },
  {
   "cell_type": "code",
   "execution_count": 109,
   "metadata": {},
   "outputs": [],
   "source": [
    "org_ids.to_csv('orgs-to-check/ptc.csv', index=False)"
   ]
  }
 ],
 "metadata": {
  "kernelspec": {
   "display_name": "Python 3",
   "language": "python",
   "name": "python3"
  },
  "language_info": {
   "codemirror_mode": {
    "name": "ipython",
    "version": 3
   },
   "file_extension": ".py",
   "mimetype": "text/x-python",
   "name": "python",
   "nbconvert_exporter": "python",
   "pygments_lexer": "ipython3",
   "version": "3.7.1"
  }
 },
 "nbformat": 4,
 "nbformat_minor": 2
}
